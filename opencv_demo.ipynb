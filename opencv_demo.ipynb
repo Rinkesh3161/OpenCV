{
 "cells": [
  {
   "cell_type": "markdown",
   "metadata": {},
   "source": [
    "## OPENCV PRACTICE"
   ]
  },
  {
   "cell_type": "markdown",
   "metadata": {},
   "source": [
    "This is for opencv library practice note\n",
    "- Image\n",
    "- Shape\n",
    "- Video\n",
    "- Basic oprations"
   ]
  },
  {
   "cell_type": "markdown",
   "metadata": {},
   "source": [
    "### Image "
   ]
  },
  {
   "cell_type": "code",
   "execution_count": 3,
   "metadata": {},
   "outputs": [],
   "source": [
    "import cv2\n",
    "import numpy as np"
   ]
  },
  {
   "cell_type": "code",
   "execution_count": 4,
   "metadata": {},
   "outputs": [],
   "source": [
    "img = cv2.imread('lena.jpg',1)"
   ]
  },
  {
   "cell_type": "code",
   "execution_count": 5,
   "metadata": {},
   "outputs": [
    {
     "name": "stdout",
     "output_type": "stream",
     "text": [
      "[[[128 138 225]\n",
      "  [127 137 224]\n",
      "  [126 136 224]\n",
      "  ...\n",
      "  [126 145 236]\n",
      "  [110 129 220]\n",
      "  [ 86 104 197]]\n",
      "\n",
      " [[127 137 224]\n",
      "  [127 137 224]\n",
      "  [127 137 224]\n",
      "  ...\n",
      "  [130 150 235]\n",
      "  [112 132 217]\n",
      "  [ 83 102 189]]\n",
      "\n",
      " [[127 137 224]\n",
      "  [127 137 224]\n",
      "  [128 138 225]\n",
      "  ...\n",
      "  [127 148 230]\n",
      "  [112 133 215]\n",
      "  [ 85 105 190]]\n",
      "\n",
      " ...\n",
      "\n",
      " [[ 55  21  82]\n",
      "  [ 54  20  81]\n",
      "  [ 62  28  92]\n",
      "  ...\n",
      "  [ 82  71 175]\n",
      "  [ 78  68 175]\n",
      "  [ 74  65 175]]\n",
      "\n",
      " [[ 55  18  80]\n",
      "  [ 56  19  81]\n",
      "  [ 66  32  96]\n",
      "  ...\n",
      "  [ 82  69 177]\n",
      "  [ 80  71 181]\n",
      "  [ 81  72 183]]\n",
      "\n",
      " [[ 56  19  81]\n",
      "  [ 58  21  83]\n",
      "  [ 68  34  98]\n",
      "  ...\n",
      "  [ 81  68 176]\n",
      "  [ 81  72 183]\n",
      "  [ 84  74 188]]]\n"
     ]
    }
   ],
   "source": [
    "print(img)"
   ]
  },
  {
   "cell_type": "code",
   "execution_count": 8,
   "metadata": {},
   "outputs": [],
   "source": [
    "cv2.imshow('Final',img)\n",
    "k = cv2.waitKey(0)\n",
    "\n",
    "if k ==27:\n",
    "    cv2.destroyAllWindows()\n",
    "elif k == ord('s'):\n",
    "    cv2.imwrite('lena_copy1.png',img)\n",
    "    cv2.destroyAllWindows()"
   ]
  },
  {
   "cell_type": "code",
   "execution_count": 31,
   "metadata": {},
   "outputs": [
    {
     "data": {
      "text/plain": [
       "True"
      ]
     },
     "execution_count": 31,
     "metadata": {},
     "output_type": "execute_result"
    }
   ],
   "source": []
  },
  {
   "cell_type": "markdown",
   "metadata": {},
   "source": [
    "### Video capture and save"
   ]
  },
  {
   "cell_type": "code",
   "execution_count": null,
   "metadata": {},
   "outputs": [],
   "source": []
  },
  {
   "cell_type": "code",
   "execution_count": null,
   "metadata": {},
   "outputs": [
    {
     "name": "stdout",
     "output_type": "stream",
     "text": [
      "True\n",
      "640.0\n",
      "480.0\n",
      "640.0\n",
      "480.0\n",
      "640.0\n",
      "480.0\n",
      "640.0\n",
      "480.0\n",
      "640.0\n",
      "480.0\n",
      "640.0\n",
      "480.0\n",
      "640.0\n",
      "480.0\n",
      "640.0\n",
      "480.0\n",
      "640.0\n",
      "480.0\n",
      "640.0\n",
      "480.0\n",
      "640.0\n",
      "480.0\n",
      "640.0\n",
      "480.0\n",
      "640.0\n",
      "480.0\n",
      "640.0\n",
      "480.0\n",
      "640.0\n",
      "480.0\n",
      "640.0\n",
      "480.0\n",
      "640.0\n",
      "480.0\n",
      "640.0\n",
      "480.0\n",
      "640.0\n",
      "480.0\n",
      "640.0\n",
      "480.0\n",
      "640.0\n",
      "480.0\n",
      "640.0\n",
      "480.0\n",
      "640.0\n",
      "480.0\n",
      "640.0\n",
      "480.0\n",
      "640.0\n",
      "480.0\n",
      "640.0\n",
      "480.0\n",
      "640.0\n",
      "480.0\n",
      "640.0\n",
      "480.0\n",
      "640.0\n",
      "480.0\n",
      "640.0\n",
      "480.0\n",
      "640.0\n",
      "480.0\n",
      "640.0\n",
      "480.0\n",
      "640.0\n",
      "480.0\n",
      "640.0\n",
      "480.0\n",
      "640.0\n",
      "480.0\n",
      "640.0\n",
      "480.0\n",
      "640.0\n",
      "480.0\n",
      "640.0\n",
      "480.0\n",
      "640.0\n",
      "480.0\n",
      "640.0\n",
      "480.0\n",
      "640.0\n",
      "480.0\n",
      "640.0\n",
      "480.0\n",
      "640.0\n",
      "480.0\n",
      "640.0\n",
      "480.0\n",
      "640.0\n",
      "480.0\n"
     ]
    }
   ],
   "source": [
    "import cv2\n",
    "cap=cv2.VideoCapture(0)\n",
    "print(cap.isOpened())\n",
    "\n",
    "### Save the frame\n",
    "fourcc = cv2.VideoWriter_fourcc('X','V','I','D')\n",
    "out = cv2.VideoWriter('Output.avi',fourcc,20.0,(640,480))\n",
    "\n",
    "while (cap.isOpened()):\n",
    "    ret,frame = cap.read() \n",
    "    \n",
    "    if ret == True:\n",
    "        print(cap.get(cv2.CAP_PROP_FRAME_WIDTH))\n",
    "        print(cap.get(cv2.CAP_PROP_FRAME_HEIGHT))\n",
    "    \n",
    "        out.write(frame)\n",
    "        \n",
    "        gray = cv2.cvtColor(frame,cv2.COLOR_BGR2GRAY)\n",
    "        cv2.imshow('Video',frame)\n",
    "    \n",
    "        if cv2.waitKey(1) & 0xFF == ord('q'):\n",
    "            break\n",
    "    else:\n",
    "        break\n",
    "        \n",
    "cap.release()\n",
    "out.release()\n",
    "cv2.destroyAllWindows()\n",
    "        \n",
    "        "
   ]
  },
  {
   "cell_type": "code",
   "execution_count": null,
   "metadata": {},
   "outputs": [],
   "source": [
    " "
   ]
  },
  {
   "cell_type": "markdown",
   "metadata": {},
   "source": [
    "### OpenCV shape "
   ]
  },
  {
   "cell_type": "code",
   "execution_count": 11,
   "metadata": {},
   "outputs": [],
   "source": [
    "import cv2\n",
    "img = cv2.imread('lena.jpg',1)\n",
    "\n",
    "img = cv2.line(img,(0,0),(255,255),(255,0,0),2)\n",
    "img = cv2.arrowedLine(img,(0,255),(255,255),(0,0,255),2)\n",
    "\n",
    "img = cv2.rectangle(img,(384,0),(510,128),(0,255,0),2)\n",
    "img = cv2.circle(img,(447,63),63,(0,255,255),-1)\n",
    "\n",
    "font = cv2.FONT_HERSHEY_SIMPLEX\n",
    "img = cv2.putText(img,'Opencvddemo',(10,500),font,3,(255,255,255),2,cv2.LINE_AA)\n",
    "\n",
    "cv2.imshow('Image',img)\n",
    "\n",
    "cv2.waitKey(0)\n",
    "cv2.destroyAllWindows()"
   ]
  },
  {
   "cell_type": "code",
   "execution_count": null,
   "metadata": {},
   "outputs": [],
   "source": []
  },
  {
   "cell_type": "markdown",
   "metadata": {},
   "source": [
    "### Add text to video"
   ]
  },
  {
   "cell_type": "code",
   "execution_count": null,
   "metadata": {},
   "outputs": [
    {
     "name": "stdout",
     "output_type": "stream",
     "text": [
      "640.0\n",
      "480.0\n"
     ]
    }
   ],
   "source": [
    "import cv2\n",
    "import datetime\n",
    "cap=cv2.VideoCapture(0)\n",
    "print(cap.get(cv2.CAP_PROP_FRAME_WIDTH))\n",
    "print(cap.get(cv2.CAP_PROP_FRAME_HEIGHT))\n",
    "# cap.set(3,600)\n",
    "# cap.set(4,600)\n",
    "# print(cap.get(3))\n",
    "# print(cap.get(4))\n",
    "\n",
    "while (cap.isOpened()):\n",
    "    ret,frame = cap.read() \n",
    "    \n",
    "    if ret == True:\n",
    "        \n",
    "        font = cv2.FONT_HERSHEY_COMPLEX\n",
    "        text = 'Width:'+ str(cap.get(3))+'Height'+str(cap.get(4)) \n",
    "        date = str(datetime.datetime.now())\n",
    "        \n",
    "        frmae = cv2.putText(frame,date,(10,50),font,1,(255,0,0),2,cv2.LINE_AA)\n",
    "        #gray = cv2.cvtColor(frame,cv2.COLOR_BGR2GRAY)\n",
    "        cv2.imshow('Video',frame) \n",
    "    \n",
    "        if cv2.waitKey(1) & 0xFF == ord('q'):\n",
    "            break\n",
    "    else:\n",
    "        break\n",
    "        \n",
    "cap.release()\n",
    "cv2.destroyAllWindows()"
   ]
  },
  {
   "cell_type": "code",
   "execution_count": null,
   "metadata": {},
   "outputs": [],
   "source": []
  },
  {
   "cell_type": "markdown",
   "metadata": {},
   "source": [
    "### Mouse Event Opencv"
   ]
  },
  {
   "cell_type": "code",
   "execution_count": 1,
   "metadata": {},
   "outputs": [],
   "source": [
    "import cv2"
   ]
  },
  {
   "cell_type": "code",
   "execution_count": 2,
   "metadata": {},
   "outputs": [
    {
     "name": "stdout",
     "output_type": "stream",
     "text": [
      "['EVENT_FLAG_ALTKEY', 'EVENT_FLAG_CTRLKEY', 'EVENT_FLAG_LBUTTON', 'EVENT_FLAG_MBUTTON', 'EVENT_FLAG_RBUTTON', 'EVENT_FLAG_SHIFTKEY', 'EVENT_LBUTTONDBLCLK', 'EVENT_LBUTTONDOWN', 'EVENT_LBUTTONUP', 'EVENT_MBUTTONDBLCLK', 'EVENT_MBUTTONDOWN', 'EVENT_MBUTTONUP', 'EVENT_MOUSEHWHEEL', 'EVENT_MOUSEMOVE', 'EVENT_MOUSEWHEEL', 'EVENT_RBUTTONDBLCLK', 'EVENT_RBUTTONDOWN', 'EVENT_RBUTTONUP']\n"
     ]
    }
   ],
   "source": [
    "events = [i for i in dir(cv2) if 'EVENT' in i ]\n",
    "\n",
    "print(events)"
   ]
  },
  {
   "cell_type": "code",
   "execution_count": 6,
   "metadata": {},
   "outputs": [],
   "source": [
    "def click_event(event,x,y,flags,param):\n",
    "    \n",
    "    ## This is for coorinates\n",
    "    if event== cv2.EVENT_LBUTTONDOWN:\n",
    "        print(x,',',y)\n",
    "        font = cv2.FONT_HERSHEY_COMPLEX\n",
    "        strxy = str(x) +',' +str(y)\n",
    "        cv2.putText(img,strxy,(x,y),font,0.5,(255,0,0),1)\n",
    "        cv2.imshow('image',img)\n",
    "    \n",
    "    ## This is for RGB color \n",
    "    if event == cv2.EVENT_RBUTTONDOWN:\n",
    "        blue = img[y,x,0]\n",
    "        green = img[y,x,1]\n",
    "        red = img[y,x,2]\n",
    "        font = cv2.FONT_HERSHEY_COMPLEX\n",
    "        strBGR = str(blue) +',' +str(green)+','+str(red)\n",
    "        cv2.putText(img,strBGR,(x,y),font,0.5,(255,0,255),1)\n",
    "        cv2.imshow('image',img)"
   ]
  },
  {
   "cell_type": "code",
   "execution_count": 9,
   "metadata": {},
   "outputs": [
    {
     "name": "stdout",
     "output_type": "stream",
     "text": [
      "131 , 25\n",
      "57 , 164\n",
      "197 , 309\n",
      "52 , 230\n",
      "39 , 296\n",
      "40 , 368\n",
      "253 , 474\n",
      "272 , 188\n",
      "275 , 55\n",
      "410 , 51\n"
     ]
    }
   ],
   "source": [
    "import numpy as np \n",
    "import cv2\n",
    "\n",
    "# img = np.zeros((512,512,3),np.uint8)\n",
    "img = cv2.imread('lena.jpg')\n",
    "cv2.imshow('image',img)\n",
    "\n",
    "cv2.setMouseCallback('image',click_event)\n",
    "\n",
    "cv2.waitKey(0)\n",
    "cv2.destroyAllWindows()"
   ]
  },
  {
   "cell_type": "code",
   "execution_count": null,
   "metadata": {},
   "outputs": [],
   "source": []
  },
  {
   "cell_type": "code",
   "execution_count": 13,
   "metadata": {},
   "outputs": [],
   "source": [
    "##### drawable object \n",
    "\n",
    "def click_event(event,x,y,flags,param):\n",
    "    \n",
    "    ## This is for coorinates\n",
    "    if event== cv2.EVENT_LBUTTONDOWN:\n",
    "        cv2.circle(img,(x,y),3,(0,0,255),-1)\n",
    "        points.append((x,y))\n",
    "        if len(points)>=2:\n",
    "            cv2.line(img,points[-1],points[-2],(255,255,0),5)\n",
    "        cv2.imshow('image',img)\n",
    "   "
   ]
  },
  {
   "cell_type": "code",
   "execution_count": 12,
   "metadata": {},
   "outputs": [],
   "source": [
    "import numpy as np \n",
    "import cv2\n",
    "\n",
    "img = np.zeros((512,512,3),np.uint8)\n",
    "#img = cv2.imread('lena.jpg')\n",
    "cv2.imshow('image',img)\n",
    "points=[]\n",
    "cv2.setMouseCallback('image',click_event)\n",
    "\n",
    "cv2.waitKey(0)\n",
    "cv2.destroyAllWindows()"
   ]
  },
  {
   "cell_type": "code",
   "execution_count": null,
   "metadata": {},
   "outputs": [],
   "source": []
  },
  {
   "cell_type": "code",
   "execution_count": 16,
   "metadata": {},
   "outputs": [],
   "source": [
    "### Color showning in new windows\n",
    "\n",
    "import numpy as np\n",
    "def click_event(event,x,y,flags,param):\n",
    "    \n",
    "    ## This is for coorinates\n",
    "    if event== cv2.EVENT_LBUTTONDOWN:\n",
    "        blue = img[x,y,0]\n",
    "        green = img[x,y,1]\n",
    "        red = img[x,y,2]\n",
    "        cv2.circle(img,(x,y),3,(0,255,255),-1)\n",
    "        mycolorImage = np.zeros((512,512,3),np.uint8)\n",
    "        \n",
    "        mycolorImage[:]=[blue,green,red]\n",
    "        cv2.imshow('colorwindow',mycolorImage)"
   ]
  },
  {
   "cell_type": "code",
   "execution_count": 17,
   "metadata": {},
   "outputs": [],
   "source": [
    "import numpy as np \n",
    "import cv2\n",
    "\n",
    "# img = np.zeros((512,512,3),np.uint8)\n",
    "img = cv2.imread('lena.jpg')\n",
    "cv2.imshow('image',img)\n",
    "\n",
    "cv2.setMouseCallback('image',click_event)\n",
    "\n",
    "cv2.waitKey(0)\n",
    "cv2.destroyAllWindows()"
   ]
  },
  {
   "cell_type": "code",
   "execution_count": null,
   "metadata": {},
   "outputs": [],
   "source": []
  },
  {
   "cell_type": "markdown",
   "metadata": {},
   "source": [
    "### Basic opration on image"
   ]
  },
  {
   "cell_type": "code",
   "execution_count": null,
   "metadata": {},
   "outputs": [],
   "source": []
  },
  {
   "cell_type": "code",
   "execution_count": 30,
   "metadata": {},
   "outputs": [
    {
     "name": "stdout",
     "output_type": "stream",
     "text": [
      "562248\n",
      "(342, 548, 3)\n",
      "uint8\n"
     ]
    }
   ],
   "source": [
    "import cv2\n",
    "img = cv2.imread('messi5.jpg')\n",
    "img2 = cv2.imread('opencv-logo.png')\n",
    "\n",
    "print(img.size)\n",
    "print(img.shape)\n",
    "print(img.dtype)\n",
    "\n",
    "b,g,r = cv2.split(img)\n",
    "img = cv2.merge((b,g,r))\n",
    "\n",
    "## Copy the ball\n",
    "ball = img[280:340,330:390]\n",
    "img[273:333,100:160] = ball\n",
    "\n",
    "# resize the image\n",
    "img = cv2.resize(img,(512,512))\n",
    "img2 =cv2.resize(img2,(512,512))\n",
    "\n",
    "#two image add opration\n",
    "#dst=cv2.add(img,img2)\n",
    "\n",
    "#two image add opration with tranferant \n",
    "dst1 = cv2.addWeighted(img,0.8,img2,0.2,0)\n",
    "\n",
    "#cv2.imshow('image',dst)\n",
    "cv2.imshow('image',dst1)\n",
    "cv2.waitKey(0)\n",
    "cv2.destroyAllWindows()"
   ]
  },
  {
   "cell_type": "code",
   "execution_count": null,
   "metadata": {},
   "outputs": [],
   "source": []
  },
  {
   "cell_type": "code",
   "execution_count": null,
   "metadata": {},
   "outputs": [],
   "source": []
  }
 ],
 "metadata": {
  "kernelspec": {
   "display_name": "Python 3",
   "language": "python",
   "name": "python3"
  },
  "language_info": {
   "codemirror_mode": {
    "name": "ipython",
    "version": 3
   },
   "file_extension": ".py",
   "mimetype": "text/x-python",
   "name": "python",
   "nbconvert_exporter": "python",
   "pygments_lexer": "ipython3",
   "version": "3.6.9"
  }
 },
 "nbformat": 4,
 "nbformat_minor": 4
}
